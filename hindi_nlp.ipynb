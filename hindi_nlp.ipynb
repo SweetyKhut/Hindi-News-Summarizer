{
 "cells": [
  {
   "cell_type": "code",
   "execution_count": 58,
   "id": "f670173a",
   "metadata": {},
   "outputs": [],
   "source": [
    "import numpy as np\n",
    "import pandas as pd\n",
    "import spacy\n",
    "from collections import Counter\n",
    "from spacy.lang.hi import STOP_WORDS as STOP_WORDS_HI"
   ]
  },
  {
   "cell_type": "code",
   "execution_count": 36,
   "id": "e266a66e",
   "metadata": {},
   "outputs": [],
   "source": [
    "data = pd.read_csv('train.csv',nrows=200,delimiter=',')"
   ]
  },
  {
   "cell_type": "code",
   "execution_count": 37,
   "id": "1f2dcaf4",
   "metadata": {},
   "outputs": [
    {
     "data": {
      "text/html": [
       "<div>\n",
       "<style scoped>\n",
       "    .dataframe tbody tr th:only-of-type {\n",
       "        vertical-align: middle;\n",
       "    }\n",
       "\n",
       "    .dataframe tbody tr th {\n",
       "        vertical-align: top;\n",
       "    }\n",
       "\n",
       "    .dataframe thead th {\n",
       "        text-align: right;\n",
       "    }\n",
       "</style>\n",
       "<table border=\"1\" class=\"dataframe\">\n",
       "  <thead>\n",
       "    <tr style=\"text-align: right;\">\n",
       "      <th></th>\n",
       "      <th>headline</th>\n",
       "      <th>summary</th>\n",
       "      <th>article</th>\n",
       "    </tr>\n",
       "  </thead>\n",
       "  <tbody>\n",
       "    <tr>\n",
       "      <th>0</th>\n",
       "      <td>उत्तर भारत में शीत लहर जारी, लेह में पारा सात ...</td>\n",
       "      <td>NaN</td>\n",
       "      <td>उत्तर भारत में शीत लहर जारी है और पहाड़ी क्षेत...</td>\n",
       "    </tr>\n",
       "    <tr>\n",
       "      <th>1</th>\n",
       "      <td>यमन : विद्रोहियों के कब्जे वाले ताएज शहर के नि...</td>\n",
       "      <td>NaN</td>\n",
       "      <td>यमन सरकार के समर्थक बलों के विद्रोहियों के कब्...</td>\n",
       "    </tr>\n",
       "    <tr>\n",
       "      <th>2</th>\n",
       "      <td>केन्या में आतंकियों ने बस को अगवा कर 28 लोगों ...</td>\n",
       "      <td>NaN</td>\n",
       "      <td>केन्या के उत्तर में, सोमालिया के अल-शबाब गुट क...</td>\n",
       "    </tr>\n",
       "    <tr>\n",
       "      <th>3</th>\n",
       "      <td>रिम करेगा दो हजार कर्मचारियों की छंटनी</td>\n",
       "      <td>ब्लैकबेरी हैंडसेट बनाने वाली कनाडा की कंपनी रि...</td>\n",
       "      <td>ब्लैकबेरी हैंडसेट बनाने वाली कनाडा की कंपनी रि...</td>\n",
       "    </tr>\n",
       "    <tr>\n",
       "      <th>4</th>\n",
       "      <td>Puducherry: उपराज्यपाल किरण बेदी से हुआ विवाद ...</td>\n",
       "      <td>NaN</td>\n",
       "      <td>केंद्र शासित प्रदेश पुडुचेरी के मुख्यमंत्री  व...</td>\n",
       "    </tr>\n",
       "  </tbody>\n",
       "</table>\n",
       "</div>"
      ],
      "text/plain": [
       "                                            headline  \\\n",
       "0  उत्तर भारत में शीत लहर जारी, लेह में पारा सात ...   \n",
       "1  यमन : विद्रोहियों के कब्जे वाले ताएज शहर के नि...   \n",
       "2  केन्या में आतंकियों ने बस को अगवा कर 28 लोगों ...   \n",
       "3           रिम करेगा दो हजार कर्मचारियों की छंटनी     \n",
       "4  Puducherry: उपराज्यपाल किरण बेदी से हुआ विवाद ...   \n",
       "\n",
       "                                             summary  \\\n",
       "0                                                NaN   \n",
       "1                                                NaN   \n",
       "2                                                NaN   \n",
       "3  ब्लैकबेरी हैंडसेट बनाने वाली कनाडा की कंपनी रि...   \n",
       "4                                                NaN   \n",
       "\n",
       "                                             article  \n",
       "0  उत्तर भारत में शीत लहर जारी है और पहाड़ी क्षेत...  \n",
       "1  यमन सरकार के समर्थक बलों के विद्रोहियों के कब्...  \n",
       "2  केन्या के उत्तर में, सोमालिया के अल-शबाब गुट क...  \n",
       "3  ब्लैकबेरी हैंडसेट बनाने वाली कनाडा की कंपनी रि...  \n",
       "4  केंद्र शासित प्रदेश पुडुचेरी के मुख्यमंत्री  व...  "
      ]
     },
     "execution_count": 37,
     "metadata": {},
     "output_type": "execute_result"
    }
   ],
   "source": [
    "data.head()"
   ]
  },
  {
   "cell_type": "code",
   "execution_count": 38,
   "id": "7b13c21c",
   "metadata": {},
   "outputs": [
    {
     "data": {
      "text/plain": [
       "headline     0\n",
       "summary     98\n",
       "article      0\n",
       "dtype: int64"
      ]
     },
     "execution_count": 38,
     "metadata": {},
     "output_type": "execute_result"
    }
   ],
   "source": [
    "data.isna().sum()"
   ]
  },
  {
   "cell_type": "code",
   "execution_count": 39,
   "id": "89577af8",
   "metadata": {},
   "outputs": [
    {
     "data": {
      "text/plain": [
       "(200, 3)"
      ]
     },
     "execution_count": 39,
     "metadata": {},
     "output_type": "execute_result"
    }
   ],
   "source": [
    "data.shape"
   ]
  },
  {
   "cell_type": "code",
   "execution_count": 40,
   "id": "1a2ca3e1",
   "metadata": {},
   "outputs": [],
   "source": [
    "data = data.dropna()"
   ]
  },
  {
   "cell_type": "code",
   "execution_count": 41,
   "id": "1729154b",
   "metadata": {},
   "outputs": [
    {
     "data": {
      "text/html": [
       "<div>\n",
       "<style scoped>\n",
       "    .dataframe tbody tr th:only-of-type {\n",
       "        vertical-align: middle;\n",
       "    }\n",
       "\n",
       "    .dataframe tbody tr th {\n",
       "        vertical-align: top;\n",
       "    }\n",
       "\n",
       "    .dataframe thead th {\n",
       "        text-align: right;\n",
       "    }\n",
       "</style>\n",
       "<table border=\"1\" class=\"dataframe\">\n",
       "  <thead>\n",
       "    <tr style=\"text-align: right;\">\n",
       "      <th></th>\n",
       "      <th>headline</th>\n",
       "      <th>summary</th>\n",
       "      <th>article</th>\n",
       "    </tr>\n",
       "  </thead>\n",
       "  <tbody>\n",
       "    <tr>\n",
       "      <th>3</th>\n",
       "      <td>रिम करेगा दो हजार कर्मचारियों की छंटनी</td>\n",
       "      <td>ब्लैकबेरी हैंडसेट बनाने वाली कनाडा की कंपनी रि...</td>\n",
       "      <td>ब्लैकबेरी हैंडसेट बनाने वाली कनाडा की कंपनी रि...</td>\n",
       "    </tr>\n",
       "    <tr>\n",
       "      <th>7</th>\n",
       "      <td>अमेरिका : राष्ट्रपति पद की उम्मीदवार हिलेरी क्...</td>\n",
       "      <td>श्रद्धांजलि सभा के दौरान अचानक खराब हुई हिलेरी...</td>\n",
       "      <td>अमेरिका में राष्ट्रपति पद के लिए डेमोक्रेटिक प...</td>\n",
       "    </tr>\n",
       "    <tr>\n",
       "      <th>8</th>\n",
       "      <td>देश के सर्वश्रेष्ठ स्पिनरों में से एक है हरभजन...</td>\n",
       "      <td>पूर्व भारतीय कप्तान अनिल कुंबले का मानना है कि...</td>\n",
       "      <td>पूर्व भारतीय क्रिकेट कप्तान अनिल कुंबले का मान...</td>\n",
       "    </tr>\n",
       "    <tr>\n",
       "      <th>9</th>\n",
       "      <td>इंडिगो के स्टाफ ने दिल्ली एयरपोर्ट पर पैसेंजर ...</td>\n",
       "      <td>इंडिगो के ग्राउंड स्टाफ ने यात्री से की हाथापा...</td>\n",
       "      <td>इंडिगो एयरलाइन के प्रेसीडेंट और डायरेक्टर आदित...</td>\n",
       "    </tr>\n",
       "    <tr>\n",
       "      <th>10</th>\n",
       "      <td>नव्या नवेली के साथ दोस्ती पर जावेद जाफरी के बे...</td>\n",
       "      <td>मीजान जाफरी ने किया खुलासा\\r\\nनव्या नंदा को बत...</td>\n",
       "      <td>संजय लीला भंसाली की फिल्म 'मलाल' से बॉलीवुड मे...</td>\n",
       "    </tr>\n",
       "  </tbody>\n",
       "</table>\n",
       "</div>"
      ],
      "text/plain": [
       "                                             headline  \\\n",
       "3            रिम करेगा दो हजार कर्मचारियों की छंटनी     \n",
       "7   अमेरिका : राष्ट्रपति पद की उम्मीदवार हिलेरी क्...   \n",
       "8   देश के सर्वश्रेष्ठ स्पिनरों में से एक है हरभजन...   \n",
       "9   इंडिगो के स्टाफ ने दिल्ली एयरपोर्ट पर पैसेंजर ...   \n",
       "10  नव्या नवेली के साथ दोस्ती पर जावेद जाफरी के बे...   \n",
       "\n",
       "                                              summary  \\\n",
       "3   ब्लैकबेरी हैंडसेट बनाने वाली कनाडा की कंपनी रि...   \n",
       "7   श्रद्धांजलि सभा के दौरान अचानक खराब हुई हिलेरी...   \n",
       "8   पूर्व भारतीय कप्तान अनिल कुंबले का मानना है कि...   \n",
       "9   इंडिगो के ग्राउंड स्टाफ ने यात्री से की हाथापा...   \n",
       "10  मीजान जाफरी ने किया खुलासा\\r\\nनव्या नंदा को बत...   \n",
       "\n",
       "                                              article  \n",
       "3   ब्लैकबेरी हैंडसेट बनाने वाली कनाडा की कंपनी रि...  \n",
       "7   अमेरिका में राष्ट्रपति पद के लिए डेमोक्रेटिक प...  \n",
       "8   पूर्व भारतीय क्रिकेट कप्तान अनिल कुंबले का मान...  \n",
       "9   इंडिगो एयरलाइन के प्रेसीडेंट और डायरेक्टर आदित...  \n",
       "10  संजय लीला भंसाली की फिल्म 'मलाल' से बॉलीवुड मे...  "
      ]
     },
     "execution_count": 41,
     "metadata": {},
     "output_type": "execute_result"
    }
   ],
   "source": [
    "data.head()"
   ]
  },
  {
   "cell_type": "code",
   "execution_count": 48,
   "id": "3974639a",
   "metadata": {},
   "outputs": [],
   "source": [
    "text = data.iloc[98,2]"
   ]
  },
  {
   "cell_type": "code",
   "execution_count": 54,
   "id": "decbde14",
   "metadata": {},
   "outputs": [],
   "source": [
    "# text"
   ]
  },
  {
   "cell_type": "code",
   "execution_count": 50,
   "id": "cbad355c",
   "metadata": {},
   "outputs": [],
   "source": [
    "words = text.split(\" \")"
   ]
  },
  {
   "cell_type": "code",
   "execution_count": 53,
   "id": "d8cef192",
   "metadata": {},
   "outputs": [],
   "source": [
    "cnt = Counter(words)"
   ]
  },
  {
   "cell_type": "code",
   "execution_count": 57,
   "id": "b963880b",
   "metadata": {},
   "outputs": [
    {
     "data": {
      "text/plain": [
       "[('अक्षय', 68),\n",
       " ('की', 57),\n",
       " ('में', 49),\n",
       " ('ने', 49),\n",
       " ('के', 42),\n",
       " ('कि', 34),\n",
       " ('रहे', 32),\n",
       " ('इस', 28),\n",
       " ('हैं.', 27),\n",
       " ('भी', 26)]"
      ]
     },
     "execution_count": 57,
     "metadata": {},
     "output_type": "execute_result"
    }
   ],
   "source": [
    "cnt.most_common(10)"
   ]
  },
  {
   "cell_type": "code",
   "execution_count": 63,
   "id": "0a1c0655",
   "metadata": {},
   "outputs": [],
   "source": [
    "non_stop_words = [word for word in words if word not in set(STOP_WORDS_HI)]"
   ]
  },
  {
   "cell_type": "code",
   "execution_count": 64,
   "id": "522fbf8b",
   "metadata": {},
   "outputs": [
    {
     "data": {
      "text/plain": [
       "[('अक्षय', 68),\n",
       " ('हैं.', 27),\n",
       " ('फिल्\\u200dम', 22),\n",
       " ('वीडियो', 20),\n",
       " ('है.', 18),\n",
       " ('नजर', 17),\n",
       " ('आयुर्वेद', 17),\n",
       " ('साल', 13),\n",
       " ('कुमार', 12),\n",
       " ('बात', 12)]"
      ]
     },
     "execution_count": 64,
     "metadata": {},
     "output_type": "execute_result"
    }
   ],
   "source": [
    "non_stop_cnt = Counter(non_stop_words)\n",
    "non_stop_cnt.most_common(10)"
   ]
  },
  {
   "cell_type": "code",
   "execution_count": 65,
   "id": "f6ad8a0f",
   "metadata": {},
   "outputs": [
    {
     "data": {
      "text/plain": [
       "{'अंदर',\n",
       " 'अगर',\n",
       " 'अत',\n",
       " 'अदि',\n",
       " 'अप',\n",
       " 'अपना',\n",
       " 'अपनि',\n",
       " 'अपनी',\n",
       " 'अपने',\n",
       " 'अभि',\n",
       " 'अभी',\n",
       " 'आदि',\n",
       " 'आप',\n",
       " 'इंहिं',\n",
       " 'इंहें',\n",
       " 'इंहों',\n",
       " 'इतयादि',\n",
       " 'इत्यादि',\n",
       " 'इन',\n",
       " 'इनका',\n",
       " 'इन्हीं',\n",
       " 'इन्हें',\n",
       " 'इन्हों',\n",
       " 'इस',\n",
       " 'इसका',\n",
       " 'इसकि',\n",
       " 'इसकी',\n",
       " 'इसके',\n",
       " 'इसमें',\n",
       " 'इसि',\n",
       " 'इसी',\n",
       " 'इसे',\n",
       " 'उंहिं',\n",
       " 'उंहें',\n",
       " 'उंहों',\n",
       " 'उन',\n",
       " 'उनका',\n",
       " 'उनकि',\n",
       " 'उनकी',\n",
       " 'उनके',\n",
       " 'उनको',\n",
       " 'उन्हीं',\n",
       " 'उन्हें',\n",
       " 'उन्हों',\n",
       " 'उस',\n",
       " 'उसके',\n",
       " 'उसि',\n",
       " 'उसी',\n",
       " 'उसे',\n",
       " 'एक',\n",
       " 'एवं',\n",
       " 'एस',\n",
       " 'एसे',\n",
       " 'ऐसे',\n",
       " 'ओर',\n",
       " 'और',\n",
       " 'कइ',\n",
       " 'कई',\n",
       " 'कर',\n",
       " 'करता',\n",
       " 'करते',\n",
       " 'करना',\n",
       " 'करने',\n",
       " 'करें',\n",
       " 'कहते',\n",
       " 'कहा',\n",
       " 'का',\n",
       " 'काफि',\n",
       " 'काफ़ी',\n",
       " 'कि',\n",
       " 'किंहें',\n",
       " 'किंहों',\n",
       " 'कितना',\n",
       " 'किन्हें',\n",
       " 'किन्हों',\n",
       " 'किया',\n",
       " 'किर',\n",
       " 'किस',\n",
       " 'किसि',\n",
       " 'किसी',\n",
       " 'किसे',\n",
       " 'की',\n",
       " 'कुछ',\n",
       " 'कुल',\n",
       " 'के',\n",
       " 'को',\n",
       " 'कोइ',\n",
       " 'कोई',\n",
       " 'कोन',\n",
       " 'कोनसा',\n",
       " 'कौन',\n",
       " 'कौनसा',\n",
       " 'गया',\n",
       " 'घर',\n",
       " 'जब',\n",
       " 'जहाँ',\n",
       " 'जहां',\n",
       " 'जा',\n",
       " 'जिंहें',\n",
       " 'जिंहों',\n",
       " 'जितना',\n",
       " 'जिधर',\n",
       " 'जिन',\n",
       " 'जिन्हें',\n",
       " 'जिन्हों',\n",
       " 'जिस',\n",
       " 'जिसे',\n",
       " 'जीधर',\n",
       " 'जेसा',\n",
       " 'जेसे',\n",
       " 'जैसा',\n",
       " 'जैसे',\n",
       " 'जो',\n",
       " 'तक',\n",
       " 'तब',\n",
       " 'तरह',\n",
       " 'तिंहें',\n",
       " 'तिंहों',\n",
       " 'तिन',\n",
       " 'तिन्हें',\n",
       " 'तिन्हों',\n",
       " 'तिस',\n",
       " 'तिसे',\n",
       " 'तो',\n",
       " 'था',\n",
       " 'थि',\n",
       " 'थी',\n",
       " 'थे',\n",
       " 'दबारा',\n",
       " 'दवारा',\n",
       " 'दिया',\n",
       " 'दुसरा',\n",
       " 'दुसरे',\n",
       " 'दूसरे',\n",
       " 'दो',\n",
       " 'द्वारा',\n",
       " 'न',\n",
       " 'नहिं',\n",
       " 'नहीं',\n",
       " 'ना',\n",
       " 'निचे',\n",
       " 'निहायत',\n",
       " 'नीचे',\n",
       " 'ने',\n",
       " 'पर',\n",
       " 'पहले',\n",
       " 'पुरा',\n",
       " 'पूरा',\n",
       " 'पे',\n",
       " 'फिर',\n",
       " 'बनि',\n",
       " 'बनी',\n",
       " 'बहि',\n",
       " 'बही',\n",
       " 'बहुत',\n",
       " 'बाद',\n",
       " 'बाला',\n",
       " 'बिलकुल',\n",
       " 'भि',\n",
       " 'भितर',\n",
       " 'भी',\n",
       " 'भीतर',\n",
       " 'मगर',\n",
       " 'मानो',\n",
       " 'मुझको',\n",
       " 'मे',\n",
       " 'में',\n",
       " 'मेरा',\n",
       " 'मैं',\n",
       " 'यदि',\n",
       " 'यह',\n",
       " 'यहाँ',\n",
       " 'यहां',\n",
       " 'यहि',\n",
       " 'यही',\n",
       " 'या',\n",
       " 'यिह',\n",
       " 'ये',\n",
       " 'रखें',\n",
       " 'रवासा',\n",
       " 'रहा',\n",
       " 'रहे',\n",
       " 'ऱ्वासा',\n",
       " 'लिए',\n",
       " 'लिये',\n",
       " 'लेकिन',\n",
       " 'व',\n",
       " 'वगेरह',\n",
       " 'वरग',\n",
       " 'वर्ग',\n",
       " 'वह',\n",
       " 'वहाँ',\n",
       " 'वहां',\n",
       " 'वहिं',\n",
       " 'वहीं',\n",
       " 'वाले',\n",
       " 'वुह',\n",
       " 'वे',\n",
       " 'वग़ैरह',\n",
       " 'संग',\n",
       " 'सकता',\n",
       " 'सकते',\n",
       " 'सबसे',\n",
       " 'सभि',\n",
       " 'सभी',\n",
       " 'साथ',\n",
       " 'साबुत',\n",
       " 'साभ',\n",
       " 'सारा',\n",
       " 'से',\n",
       " 'सो',\n",
       " 'हि',\n",
       " 'ही',\n",
       " 'हुअ',\n",
       " 'हुआ',\n",
       " 'हुइ',\n",
       " 'हुई',\n",
       " 'हुए',\n",
       " 'हूँ',\n",
       " 'हे',\n",
       " 'हें',\n",
       " 'है',\n",
       " 'हैं',\n",
       " 'हो',\n",
       " 'होता',\n",
       " 'होति',\n",
       " 'होती',\n",
       " 'होते',\n",
       " 'होना',\n",
       " 'होने'}"
      ]
     },
     "execution_count": 65,
     "metadata": {},
     "output_type": "execute_result"
    }
   ],
   "source": [
    "STOP_WORDS_HI"
   ]
  },
  {
   "cell_type": "code",
   "execution_count": null,
   "id": "c7cbbf07",
   "metadata": {},
   "outputs": [],
   "source": []
  }
 ],
 "metadata": {
  "kernelspec": {
   "display_name": "Python 3 (ipykernel)",
   "language": "python",
   "name": "python3"
  },
  "language_info": {
   "codemirror_mode": {
    "name": "ipython",
    "version": 3
   },
   "file_extension": ".py",
   "mimetype": "text/x-python",
   "name": "python",
   "nbconvert_exporter": "python",
   "pygments_lexer": "ipython3",
   "version": "3.9.7"
  }
 },
 "nbformat": 4,
 "nbformat_minor": 5
}
